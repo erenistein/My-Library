{
 "cells": [
  {
   "cell_type": "code",
   "execution_count": 9,
   "id": "56a5868f-35d9-4280-97a4-0cbb91b8e335",
   "metadata": {},
   "outputs": [],
   "source": [
    "import numpy as np\n",
    "import pandas as pd\n",
    "import matplotlib.pyplot as plt\n",
    "import seaborn as sns\n"
   ]
  },
  {
   "cell_type": "code",
   "execution_count": 1,
   "id": "8b57a4ea-32a6-4437-be77-593a1e28f16e",
   "metadata": {},
   "outputs": [],
   "source": [
    "class ProfillingReport:\n",
    "    \"\"\"\n",
    "    Bir veri kasifci veri analizi icin kullanılan sınıf\n",
    "    \"\"\""
   ]
  }
 ],
 "metadata": {
  "kernelspec": {
   "display_name": "Python 3 (ipykernel)",
   "language": "python",
   "name": "python3"
  },
  "language_info": {
   "codemirror_mode": {
    "name": "ipython",
    "version": 3
   },
   "file_extension": ".py",
   "mimetype": "text/x-python",
   "name": "python",
   "nbconvert_exporter": "python",
   "pygments_lexer": "ipython3",
   "version": "3.11.5"
  }
 },
 "nbformat": 4,
 "nbformat_minor": 5
}
